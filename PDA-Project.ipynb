{
 "cells": [
  {
   "cell_type": "markdown",
   "id": "b76f83f1-654c-468a-a001-8a150b16bdec",
   "metadata": {},
   "source": [
    "# PDA-Project\n",
    "## Overview\n",
    "## Simulation\n",
    "## Real Data\n",
    "## Comparison\n",
    "## Conclusion\n",
    "## References\n",
    "## End"
   ]
  },
  {
   "cell_type": "markdown",
   "id": "b419eb41-9bc2-43c0-9144-be335fd263fc",
   "metadata": {},
   "source": [
    "## Overview\n",
    "*** "
   ]
  },
  {
   "cell_type": "markdown",
   "id": "c0f35846-160c-4f12-ae15-93dec4c16fb8",
   "metadata": {},
   "source": [
    "## Simulation\n",
    "***  "
   ]
  },
  {
   "cell_type": "markdown",
   "id": "dbc6d56c-fcec-467b-aba5-7e945093a30a",
   "metadata": {},
   "source": [
    "## Real Data\n",
    "***   "
   ]
  },
  {
   "cell_type": "markdown",
   "id": "641b4c22-50ed-413f-bf6e-0a47c2141e34",
   "metadata": {},
   "source": [
    "## Comparison\n",
    "***   "
   ]
  },
  {
   "cell_type": "markdown",
   "id": "86fe83a7-14ac-4bb2-89d4-88f2e8df888a",
   "metadata": {},
   "source": [
    "## Conclusion\n",
    "***   "
   ]
  },
  {
   "cell_type": "markdown",
   "id": "96b134f7-5c7e-4efe-9cb2-ef5cbdc18a43",
   "metadata": {},
   "source": [
    "## References\n",
    "\n",
    "|Article|Site|Available at|Accessed|\n",
    "|-------|----|------------|--------|\n",
    "|Random Generator — NumPy v1.21 Manual|numpy.org|\"https://numpy.org/doc/stable/reference/random/generator.html#simple- |(Dec 2021)|\n",
    "\n",
    "***"
   ]
  },
  {
   "cell_type": "markdown",
   "id": "02ff000c-8f63-48cf-8f0a-68c455a0f81d",
   "metadata": {},
   "source": [
    "## End"
   ]
  },
  {
   "cell_type": "markdown",
   "id": "dac59d88-52b5-433d-8754-d7a02a864ac3",
   "metadata": {},
   "source": [
    "## Data in matlab .mat format - says there are 287 x 4 but i'm getting up in 100k's\n",
    "\n",
    "Taylor et al - Inhaler inhalation audio and flow data\n",
    "The .mat file contains data in the form of a 287x4 cell matrix. Each row corresponds to a different inhaler inhalation recording. Column 1 contains the anonymized participant numbers, Column 2 contains the inspiratory flow range group to which each recording belongs to. Details of this labeling is given in the manuscript. Column 3 contains the inhalation flow signals and Column 4 contains the acoustic envelope signals from the inhalation audio recordings. Signals are low pass filtered below 4Hz. Moving average filter not applied to acoustic envelope signals until after flow estimation."
   ]
  },
  {
   "cell_type": "code",
   "execution_count": 1,
   "id": "e358f249-5d00-4d67-9162-d0af9f3a97b9",
   "metadata": {},
   "outputs": [],
   "source": [
    "import scipy.io\n",
    "file_name = r\"c:\\users\\mparry\\Downloads\\TAYLOR_INHALER_AUDIO_FLOW_DATA.mat\"\n",
    "mat = scipy.io.loadmat(file_name)"
   ]
  },
  {
   "cell_type": "code",
   "execution_count": 2,
   "id": "90a721db-c6c0-47f6-b785-39e133b30d2b",
   "metadata": {},
   "outputs": [
    {
     "name": "stdout",
     "output_type": "stream",
     "text": [
      "<class 'dict'>\n"
     ]
    }
   ],
   "source": [
    "print(type(mat))"
   ]
  },
  {
   "cell_type": "code",
   "execution_count": 3,
   "id": "205c626a-0aed-4313-98ef-71fa673262e3",
   "metadata": {},
   "outputs": [
    {
     "name": "stdout",
     "output_type": "stream",
     "text": [
      "dict_keys(['__header__', '__version__', '__globals__', 'TAYLOR_INHALER_AUDIO_FLOW_DATA'])\n"
     ]
    }
   ],
   "source": [
    "print(mat.keys())"
   ]
  },
  {
   "cell_type": "code",
   "execution_count": 4,
   "id": "1cce90ce-35be-4a15-abe0-67c7737b778f",
   "metadata": {},
   "outputs": [
    {
     "name": "stdout",
     "output_type": "stream",
     "text": [
      "b'MATLAB 5.0 MAT-file, Platform: PCWIN64, Created on: Fri Apr 28 13:00:02 2017'\n"
     ]
    }
   ],
   "source": [
    "print(mat['__header__'])"
   ]
  },
  {
   "cell_type": "code",
   "execution_count": 5,
   "id": "fe76effb-199c-4796-93e1-0b7c6dfbab22",
   "metadata": {},
   "outputs": [
    {
     "name": "stdout",
     "output_type": "stream",
     "text": [
      "1.0\n"
     ]
    }
   ],
   "source": [
    "print(mat['__version__'])"
   ]
  },
  {
   "cell_type": "code",
   "execution_count": 6,
   "id": "c0774ff2-19b4-43ed-bb1b-3112f38d7774",
   "metadata": {},
   "outputs": [
    {
     "name": "stdout",
     "output_type": "stream",
     "text": [
      "[]\n"
     ]
    }
   ],
   "source": [
    "print(mat['__globals__'])"
   ]
  },
  {
   "cell_type": "code",
   "execution_count": 7,
   "id": "ceb7ed32-2265-45f3-a2e8-88512a087fd3",
   "metadata": {},
   "outputs": [
    {
     "name": "stdout",
     "output_type": "stream",
     "text": [
      "[[array([[1]], dtype=uint8) array(['High Flow'], dtype='<U9')\n",
      "  array([[4.99854678],\n",
      "         [5.00035805],\n",
      "         [5.00216934],\n",
      "         ...,\n",
      "         [5.00082298],\n",
      "         [5.00034229],\n",
      "         [4.99986152]]) array([[0.00265197],\n",
      "                               [0.0026514 ],\n",
      "                               [0.00265082],\n",
      "                               ...,\n",
      "                               [0.00151231],\n",
      "                               [0.00151252],\n",
      "                               [0.00151273]])]\n",
      " [array([[1]], dtype=uint8) array(['High Flow'], dtype='<U9')\n",
      "  array([[4.99816909],\n",
      "         [5.00001233],\n",
      "         [5.00185626],\n",
      "         ...,\n",
      "         [5.00053761],\n",
      "         [5.0002613 ],\n",
      "         [4.99998502]]) array([[0.00049496],\n",
      "                               [0.00049614],\n",
      "                               [0.00049731],\n",
      "                               ...,\n",
      "                               [0.00013577],\n",
      "                               [0.00013544],\n",
      "                               [0.00013511]])]\n",
      " [array([[1]], dtype=uint8) array(['High Flow'], dtype='<U9')\n",
      "  array([[4.99881775],\n",
      "         [5.00093897],\n",
      "         [5.00306019],\n",
      "         ...,\n",
      "         [5.00053994],\n",
      "         [5.00022307],\n",
      "         [4.99990648]]) array([[0.00129509],\n",
      "                               [0.00129491],\n",
      "                               [0.00129473],\n",
      "                               ...,\n",
      "                               [0.00035113],\n",
      "                               [0.00035087],\n",
      "                               [0.00035061]])]\n",
      " ...\n",
      " [array([[20]], dtype=uint8) array(['Low Flow'], dtype='<U8')\n",
      "  array([[4.99914366],\n",
      "         [5.00026166],\n",
      "         [5.0013799 ],\n",
      "         ...,\n",
      "         [5.00243572],\n",
      "         [5.00085445],\n",
      "         [4.99927308]]) array([[0.00019241],\n",
      "                               [0.00019302],\n",
      "                               [0.00019364],\n",
      "                               ...,\n",
      "                               [0.00067513],\n",
      "                               [0.00067473],\n",
      "                               [0.00067433]])]\n",
      " [array([[20]], dtype=uint8) array(['Low Flow'], dtype='<U8')\n",
      "  array([[4.99962106],\n",
      "         [5.00021153],\n",
      "         [5.00080196],\n",
      "         ...,\n",
      "         [5.00098091],\n",
      "         [5.00027685],\n",
      "         [4.99957276]]) array([[0.00095558],\n",
      "                               [0.00095557],\n",
      "                               [0.00095556],\n",
      "                               ...,\n",
      "                               [0.00031029],\n",
      "                               [0.00030952],\n",
      "                               [0.00030874]])]\n",
      " [array([[20]], dtype=uint8) array(['Low Flow'], dtype='<U8')\n",
      "  array([[4.99948494],\n",
      "         [5.00136836],\n",
      "         [5.00325206],\n",
      "         ...,\n",
      "         [5.00108241],\n",
      "         [5.00019446],\n",
      "         [4.9993064 ]]) array([[0.00092333],\n",
      "                               [0.00092427],\n",
      "                               [0.00092522],\n",
      "                               ...,\n",
      "                               [0.00072763],\n",
      "                               [0.00072752],\n",
      "                               [0.0007274 ]])]]\n"
     ]
    }
   ],
   "source": [
    "print(mat['TAYLOR_INHALER_AUDIO_FLOW_DATA'])\n"
   ]
  },
  {
   "cell_type": "code",
   "execution_count": 8,
   "id": "1b0db9d7-ff49-4500-92e6-7117df7c5910",
   "metadata": {},
   "outputs": [
    {
     "name": "stdout",
     "output_type": "stream",
     "text": [
      "[array([[1]], dtype=uint8) array(['High Flow'], dtype='<U9')\n",
      " array([[4.99816909],\n",
      "        [5.00001233],\n",
      "        [5.00185626],\n",
      "        ...,\n",
      "        [5.00053761],\n",
      "        [5.0002613 ],\n",
      "        [4.99998502]]) array([[0.00049496],\n",
      "                              [0.00049614],\n",
      "                              [0.00049731],\n",
      "                              ...,\n",
      "                              [0.00013577],\n",
      "                              [0.00013544],\n",
      "                              [0.00013511]])]\n"
     ]
    }
   ],
   "source": [
    "print(mat['TAYLOR_INHALER_AUDIO_FLOW_DATA'][1])\n"
   ]
  },
  {
   "cell_type": "code",
   "execution_count": 9,
   "id": "64b1d1da-97b4-425b-aa73-904688ad4e75",
   "metadata": {},
   "outputs": [
    {
     "name": "stdout",
     "output_type": "stream",
     "text": [
      "4\n"
     ]
    }
   ],
   "source": [
    "print(mat['TAYLOR_INHALER_AUDIO_FLOW_DATA'][1].size)"
   ]
  },
  {
   "cell_type": "code",
   "execution_count": 10,
   "id": "e48384a3-ba1d-41a4-be79-2c8a61694c38",
   "metadata": {},
   "outputs": [
    {
     "name": "stdout",
     "output_type": "stream",
     "text": [
      "[[1]]\n"
     ]
    }
   ],
   "source": [
    "print(mat['TAYLOR_INHALER_AUDIO_FLOW_DATA'][1][0])"
   ]
  },
  {
   "cell_type": "code",
   "execution_count": 11,
   "id": "7a79d722-211c-44c6-99d7-3a5ef30cec53",
   "metadata": {},
   "outputs": [
    {
     "name": "stdout",
     "output_type": "stream",
     "text": [
      "['High Flow']\n"
     ]
    }
   ],
   "source": [
    "print(mat['TAYLOR_INHALER_AUDIO_FLOW_DATA'][1][1])"
   ]
  },
  {
   "cell_type": "code",
   "execution_count": 12,
   "id": "2de34be1-a050-4906-adba-8e3667229bd0",
   "metadata": {},
   "outputs": [
    {
     "name": "stdout",
     "output_type": "stream",
     "text": [
      "[[4.99816909]\n",
      " [5.00001233]\n",
      " [5.00185626]\n",
      " ...\n",
      " [5.00053761]\n",
      " [5.0002613 ]\n",
      " [4.99998502]]\n"
     ]
    }
   ],
   "source": [
    "print(mat['TAYLOR_INHALER_AUDIO_FLOW_DATA'][1][2])"
   ]
  },
  {
   "cell_type": "code",
   "execution_count": 13,
   "id": "1b0c18df-4878-4afd-be42-d2bdc1a47453",
   "metadata": {},
   "outputs": [
    {
     "name": "stdout",
     "output_type": "stream",
     "text": [
      "136764\n"
     ]
    }
   ],
   "source": [
    "print(mat['TAYLOR_INHALER_AUDIO_FLOW_DATA'][1][2].size)"
   ]
  },
  {
   "cell_type": "code",
   "execution_count": 14,
   "id": "93ab553a-8544-49b6-acd2-cb3345967312",
   "metadata": {},
   "outputs": [
    {
     "name": "stdout",
     "output_type": "stream",
     "text": [
      "[[0.00049496]\n",
      " [0.00049614]\n",
      " [0.00049731]\n",
      " ...\n",
      " [0.00013577]\n",
      " [0.00013544]\n",
      " [0.00013511]]\n"
     ]
    }
   ],
   "source": [
    "print(mat['TAYLOR_INHALER_AUDIO_FLOW_DATA'][1][3])"
   ]
  },
  {
   "cell_type": "code",
   "execution_count": 15,
   "id": "b75d1136-e2e6-434a-ad52-caeb82d7fcf9",
   "metadata": {},
   "outputs": [
    {
     "name": "stdout",
     "output_type": "stream",
     "text": [
      "[[0.00076987]\n",
      " [0.00078128]\n",
      " [0.0007927 ]\n",
      " ...\n",
      " [0.00126515]\n",
      " [0.00126501]\n",
      " [0.00126488]]\n"
     ]
    }
   ],
   "source": [
    "print(mat['TAYLOR_INHALER_AUDIO_FLOW_DATA'][20][3])"
   ]
  },
  {
   "cell_type": "code",
   "execution_count": 16,
   "id": "a4424d59-61e2-417d-8a4f-9c67651cd1f3",
   "metadata": {},
   "outputs": [],
   "source": [
    "import pandas as pd"
   ]
  },
  {
   "cell_type": "code",
   "execution_count": 17,
   "id": "c3a60e23-4256-404a-9b73-f574ad2d6b78",
   "metadata": {},
   "outputs": [],
   "source": [
    "df = pd.DataFrame(mat['TAYLOR_INHALER_AUDIO_FLOW_DATA'][1][2])"
   ]
  },
  {
   "cell_type": "code",
   "execution_count": 18,
   "id": "0e4eb488-44b2-41a9-9130-d1035844a105",
   "metadata": {},
   "outputs": [
    {
     "data": {
      "text/html": [
       "<div>\n",
       "<style scoped>\n",
       "    .dataframe tbody tr th:only-of-type {\n",
       "        vertical-align: middle;\n",
       "    }\n",
       "\n",
       "    .dataframe tbody tr th {\n",
       "        vertical-align: top;\n",
       "    }\n",
       "\n",
       "    .dataframe thead th {\n",
       "        text-align: right;\n",
       "    }\n",
       "</style>\n",
       "<table border=\"1\" class=\"dataframe\">\n",
       "  <thead>\n",
       "    <tr style=\"text-align: right;\">\n",
       "      <th></th>\n",
       "      <th>0</th>\n",
       "    </tr>\n",
       "  </thead>\n",
       "  <tbody>\n",
       "    <tr>\n",
       "      <th>count</th>\n",
       "      <td>136764.000000</td>\n",
       "    </tr>\n",
       "    <tr>\n",
       "      <th>mean</th>\n",
       "      <td>36.593695</td>\n",
       "    </tr>\n",
       "    <tr>\n",
       "      <th>std</th>\n",
       "      <td>26.140786</td>\n",
       "    </tr>\n",
       "    <tr>\n",
       "      <th>min</th>\n",
       "      <td>4.998169</td>\n",
       "    </tr>\n",
       "    <tr>\n",
       "      <th>25%</th>\n",
       "      <td>10.105498</td>\n",
       "    </tr>\n",
       "    <tr>\n",
       "      <th>50%</th>\n",
       "      <td>30.541056</td>\n",
       "    </tr>\n",
       "    <tr>\n",
       "      <th>75%</th>\n",
       "      <td>58.751113</td>\n",
       "    </tr>\n",
       "    <tr>\n",
       "      <th>max</th>\n",
       "      <td>80.391706</td>\n",
       "    </tr>\n",
       "  </tbody>\n",
       "</table>\n",
       "</div>"
      ],
      "text/plain": [
       "                   0\n",
       "count  136764.000000\n",
       "mean       36.593695\n",
       "std        26.140786\n",
       "min         4.998169\n",
       "25%        10.105498\n",
       "50%        30.541056\n",
       "75%        58.751113\n",
       "max        80.391706"
      ]
     },
     "execution_count": 18,
     "metadata": {},
     "output_type": "execute_result"
    }
   ],
   "source": [
    "df.describe()"
   ]
  },
  {
   "cell_type": "markdown",
   "id": "bf49a970-4e0f-4b11-b13f-83ea2762e5fc",
   "metadata": {},
   "source": [
    "***   "
   ]
  },
  {
   "cell_type": "markdown",
   "id": "ac13f4b4-60ba-486a-b52b-5e6cc4bd85ed",
   "metadata": {},
   "source": [
    "## Complementary and alternative asthma treatments and their association with asthma control: a population-based study\n",
    "**Abstract**\n",
    "Objectives Many patients with asthma spend time and resources consuming complementary and alternative medicines (CAMs). This study explores whether CAM utilisation is associated with asthma control and the intake of asthma controller medications.\n",
    "\n",
    "**Design** Population-based, prospective cross-sectional study.\n",
    "\n",
    "**Setting** General population residing in two census areas in the province of British Columbia, Canada. Recruitment was based on random-digit dialling of both landlines and cell phones.\n",
    "\n",
    "**Participants** 486 patients with self-reported physician diagnosis of asthma (mean age 52 years; 67.3% woman).\n"
   ]
  },
  {
   "cell_type": "markdown",
   "id": "542472f1-8d6a-4b18-b3b2-ffe5456d4131",
   "metadata": {},
   "source": [
    "## Dataset\n",
    "This dataset contains the complete information for the statistical analysis of this publication. The data were collected in the field. The titles of variables were self-explanary. For binary variables, \"Yes\" was commonly coded as 1 and \"No\" as 0. For the variable of asthma control (\"Control\"), \"controlled\" was coded as 0, \"partially controlled\" as 1 and \"uncontrolled\" as 2. \"CAM_types\" reported all different types of complementary and alternative asthma medicines which the patients received in the past 12 months."
   ]
  },
  {
   "cell_type": "code",
   "execution_count": 19,
   "id": "3aacf87e-e6fe-40e5-a42a-ba9737afc63d",
   "metadata": {},
   "outputs": [
    {
     "name": "stderr",
     "output_type": "stream",
     "text": [
      "C:\\Users\\mparry\\Anaconda3\\lib\\site-packages\\openpyxl\\worksheet\\_reader.py:312: UserWarning: Unknown extension is not supported and will be removed\n",
      "  warn(msg)\n"
     ]
    }
   ],
   "source": [
    "df = pd.read_excel(\"../CAMpaper_fulldata.xlsx\",index_col=0)"
   ]
  },
  {
   "cell_type": "code",
   "execution_count": 93,
   "id": "c1aa3f1e-b4df-4051-a1cf-76980068ac8c",
   "metadata": {},
   "outputs": [
    {
     "data": {
      "text/plain": [
       "Index(['Asthma_ER_or_Hospitalization', 'fev1_to_fvc', 'fvc', 'fev1',\n",
       "       'predicted_fev1', 'fev1_over_pred', 'Control_with_missing_data',\n",
       "       'Control_without_missing_data', 'cam_acupuncture',\n",
       "       'cam_breathingexercises', 'cam_chiropractic', 'cam_dieting',\n",
       "       'cam_herbal', 'cam_homeopathy', 'cam_massage', 'cam_naturopathy',\n",
       "       'cam_vitamins', 'cam_other', 'cam_use', 'cam_types',\n",
       "       'controller_medicine_use', 'resuse', 'age', 'ethnicity',\n",
       "       'household_income', 'sex', 'education', 'true_other_cam'],\n",
       "      dtype='object')"
      ]
     },
     "execution_count": 93,
     "metadata": {},
     "output_type": "execute_result"
    }
   ],
   "source": [
    "df.columns"
   ]
  },
  {
   "cell_type": "code",
   "execution_count": 20,
   "id": "372d2454-35f9-40a7-8abc-01853d69e54a",
   "metadata": {},
   "outputs": [
    {
     "data": {
      "text/html": [
       "<div>\n",
       "<style scoped>\n",
       "    .dataframe tbody tr th:only-of-type {\n",
       "        vertical-align: middle;\n",
       "    }\n",
       "\n",
       "    .dataframe tbody tr th {\n",
       "        vertical-align: top;\n",
       "    }\n",
       "\n",
       "    .dataframe thead th {\n",
       "        text-align: right;\n",
       "    }\n",
       "</style>\n",
       "<table border=\"1\" class=\"dataframe\">\n",
       "  <thead>\n",
       "    <tr style=\"text-align: right;\">\n",
       "      <th></th>\n",
       "      <th>Asthma_ER_or_Hospitalization</th>\n",
       "      <th>fev1_to_fvc</th>\n",
       "      <th>fvc</th>\n",
       "      <th>fev1</th>\n",
       "      <th>predicted_fev1</th>\n",
       "      <th>fev1_over_pred</th>\n",
       "      <th>Control_without_missing_data</th>\n",
       "      <th>cam_acupuncture</th>\n",
       "      <th>cam_breathingexercises</th>\n",
       "      <th>cam_chiropractic</th>\n",
       "      <th>...</th>\n",
       "      <th>cam_herbal</th>\n",
       "      <th>cam_homeopathy</th>\n",
       "      <th>cam_massage</th>\n",
       "      <th>cam_naturopathy</th>\n",
       "      <th>cam_vitamins</th>\n",
       "      <th>cam_other</th>\n",
       "      <th>cam_types</th>\n",
       "      <th>resuse</th>\n",
       "      <th>age</th>\n",
       "      <th>true_other_cam</th>\n",
       "    </tr>\n",
       "  </thead>\n",
       "  <tbody>\n",
       "    <tr>\n",
       "      <th>count</th>\n",
       "      <td>486.000000</td>\n",
       "      <td>435.000000</td>\n",
       "      <td>435.000000</td>\n",
       "      <td>483.000000</td>\n",
       "      <td>484.000000</td>\n",
       "      <td>483.000000</td>\n",
       "      <td>486.000000</td>\n",
       "      <td>486.000000</td>\n",
       "      <td>486.000000</td>\n",
       "      <td>485.000000</td>\n",
       "      <td>...</td>\n",
       "      <td>486.000000</td>\n",
       "      <td>486.000000</td>\n",
       "      <td>485.000000</td>\n",
       "      <td>485.000000</td>\n",
       "      <td>486.000000</td>\n",
       "      <td>485.000000</td>\n",
       "      <td>486.000000</td>\n",
       "      <td>486.000000</td>\n",
       "      <td>486.000000</td>\n",
       "      <td>36.000000</td>\n",
       "    </tr>\n",
       "    <tr>\n",
       "      <th>mean</th>\n",
       "      <td>0.069959</td>\n",
       "      <td>69.290991</td>\n",
       "      <td>3.623241</td>\n",
       "      <td>2.614431</td>\n",
       "      <td>3.030434</td>\n",
       "      <td>0.849432</td>\n",
       "      <td>1.216049</td>\n",
       "      <td>0.045267</td>\n",
       "      <td>0.176955</td>\n",
       "      <td>0.053608</td>\n",
       "      <td>...</td>\n",
       "      <td>0.100823</td>\n",
       "      <td>0.032922</td>\n",
       "      <td>0.078351</td>\n",
       "      <td>0.035052</td>\n",
       "      <td>0.096708</td>\n",
       "      <td>0.162887</td>\n",
       "      <td>0.701646</td>\n",
       "      <td>92.460376</td>\n",
       "      <td>52.213169</td>\n",
       "      <td>0.222222</td>\n",
       "    </tr>\n",
       "    <tr>\n",
       "      <th>std</th>\n",
       "      <td>0.255340</td>\n",
       "      <td>17.225216</td>\n",
       "      <td>1.119470</td>\n",
       "      <td>0.871528</td>\n",
       "      <td>0.784766</td>\n",
       "      <td>0.313121</td>\n",
       "      <td>0.754799</td>\n",
       "      <td>0.208104</td>\n",
       "      <td>0.382024</td>\n",
       "      <td>0.225476</td>\n",
       "      <td>...</td>\n",
       "      <td>0.301405</td>\n",
       "      <td>0.178616</td>\n",
       "      <td>0.269000</td>\n",
       "      <td>0.184100</td>\n",
       "      <td>0.295864</td>\n",
       "      <td>0.369643</td>\n",
       "      <td>1.271203</td>\n",
       "      <td>140.603572</td>\n",
       "      <td>14.655861</td>\n",
       "      <td>0.421637</td>\n",
       "    </tr>\n",
       "    <tr>\n",
       "      <th>min</th>\n",
       "      <td>0.000000</td>\n",
       "      <td>0.259000</td>\n",
       "      <td>1.290000</td>\n",
       "      <td>0.620000</td>\n",
       "      <td>-0.246520</td>\n",
       "      <td>-4.624380</td>\n",
       "      <td>0.000000</td>\n",
       "      <td>0.000000</td>\n",
       "      <td>0.000000</td>\n",
       "      <td>0.000000</td>\n",
       "      <td>...</td>\n",
       "      <td>0.000000</td>\n",
       "      <td>0.000000</td>\n",
       "      <td>0.000000</td>\n",
       "      <td>0.000000</td>\n",
       "      <td>0.000000</td>\n",
       "      <td>0.000000</td>\n",
       "      <td>0.000000</td>\n",
       "      <td>0.000000</td>\n",
       "      <td>18.992470</td>\n",
       "      <td>0.000000</td>\n",
       "    </tr>\n",
       "    <tr>\n",
       "      <th>25%</th>\n",
       "      <td>0.000000</td>\n",
       "      <td>66.250000</td>\n",
       "      <td>2.755000</td>\n",
       "      <td>1.935000</td>\n",
       "      <td>2.486588</td>\n",
       "      <td>0.744525</td>\n",
       "      <td>1.000000</td>\n",
       "      <td>0.000000</td>\n",
       "      <td>0.000000</td>\n",
       "      <td>0.000000</td>\n",
       "      <td>...</td>\n",
       "      <td>0.000000</td>\n",
       "      <td>0.000000</td>\n",
       "      <td>0.000000</td>\n",
       "      <td>0.000000</td>\n",
       "      <td>0.000000</td>\n",
       "      <td>0.000000</td>\n",
       "      <td>0.000000</td>\n",
       "      <td>6.522182</td>\n",
       "      <td>42.120468</td>\n",
       "      <td>0.000000</td>\n",
       "    </tr>\n",
       "    <tr>\n",
       "      <th>50%</th>\n",
       "      <td>0.000000</td>\n",
       "      <td>72.500000</td>\n",
       "      <td>3.530000</td>\n",
       "      <td>2.600000</td>\n",
       "      <td>2.932195</td>\n",
       "      <td>0.877890</td>\n",
       "      <td>1.000000</td>\n",
       "      <td>0.000000</td>\n",
       "      <td>0.000000</td>\n",
       "      <td>0.000000</td>\n",
       "      <td>...</td>\n",
       "      <td>0.000000</td>\n",
       "      <td>0.000000</td>\n",
       "      <td>0.000000</td>\n",
       "      <td>0.000000</td>\n",
       "      <td>0.000000</td>\n",
       "      <td>0.000000</td>\n",
       "      <td>0.000000</td>\n",
       "      <td>45.655270</td>\n",
       "      <td>51.726215</td>\n",
       "      <td>0.000000</td>\n",
       "    </tr>\n",
       "    <tr>\n",
       "      <th>75%</th>\n",
       "      <td>0.000000</td>\n",
       "      <td>79.150000</td>\n",
       "      <td>4.350000</td>\n",
       "      <td>3.205000</td>\n",
       "      <td>3.512582</td>\n",
       "      <td>0.965920</td>\n",
       "      <td>2.000000</td>\n",
       "      <td>0.000000</td>\n",
       "      <td>0.000000</td>\n",
       "      <td>0.000000</td>\n",
       "      <td>...</td>\n",
       "      <td>0.000000</td>\n",
       "      <td>0.000000</td>\n",
       "      <td>0.000000</td>\n",
       "      <td>0.000000</td>\n",
       "      <td>0.000000</td>\n",
       "      <td>0.000000</td>\n",
       "      <td>1.000000</td>\n",
       "      <td>142.944475</td>\n",
       "      <td>63.172488</td>\n",
       "      <td>0.000000</td>\n",
       "    </tr>\n",
       "    <tr>\n",
       "      <th>max</th>\n",
       "      <td>1.000000</td>\n",
       "      <td>96.400000</td>\n",
       "      <td>7.520000</td>\n",
       "      <td>5.070000</td>\n",
       "      <td>5.492000</td>\n",
       "      <td>1.666690</td>\n",
       "      <td>2.000000</td>\n",
       "      <td>1.000000</td>\n",
       "      <td>1.000000</td>\n",
       "      <td>1.000000</td>\n",
       "      <td>...</td>\n",
       "      <td>1.000000</td>\n",
       "      <td>1.000000</td>\n",
       "      <td>1.000000</td>\n",
       "      <td>1.000000</td>\n",
       "      <td>1.000000</td>\n",
       "      <td>1.000000</td>\n",
       "      <td>7.000000</td>\n",
       "      <td>1334.000000</td>\n",
       "      <td>97.281310</td>\n",
       "      <td>1.000000</td>\n",
       "    </tr>\n",
       "  </tbody>\n",
       "</table>\n",
       "<p>8 rows × 21 columns</p>\n",
       "</div>"
      ],
      "text/plain": [
       "       Asthma_ER_or_Hospitalization  fev1_to_fvc         fvc        fev1  \\\n",
       "count                    486.000000   435.000000  435.000000  483.000000   \n",
       "mean                       0.069959    69.290991    3.623241    2.614431   \n",
       "std                        0.255340    17.225216    1.119470    0.871528   \n",
       "min                        0.000000     0.259000    1.290000    0.620000   \n",
       "25%                        0.000000    66.250000    2.755000    1.935000   \n",
       "50%                        0.000000    72.500000    3.530000    2.600000   \n",
       "75%                        0.000000    79.150000    4.350000    3.205000   \n",
       "max                        1.000000    96.400000    7.520000    5.070000   \n",
       "\n",
       "       predicted_fev1  fev1_over_pred  Control_without_missing_data  \\\n",
       "count      484.000000      483.000000                    486.000000   \n",
       "mean         3.030434        0.849432                      1.216049   \n",
       "std          0.784766        0.313121                      0.754799   \n",
       "min         -0.246520       -4.624380                      0.000000   \n",
       "25%          2.486588        0.744525                      1.000000   \n",
       "50%          2.932195        0.877890                      1.000000   \n",
       "75%          3.512582        0.965920                      2.000000   \n",
       "max          5.492000        1.666690                      2.000000   \n",
       "\n",
       "       cam_acupuncture  cam_breathingexercises  cam_chiropractic  ...  \\\n",
       "count       486.000000              486.000000        485.000000  ...   \n",
       "mean          0.045267                0.176955          0.053608  ...   \n",
       "std           0.208104                0.382024          0.225476  ...   \n",
       "min           0.000000                0.000000          0.000000  ...   \n",
       "25%           0.000000                0.000000          0.000000  ...   \n",
       "50%           0.000000                0.000000          0.000000  ...   \n",
       "75%           0.000000                0.000000          0.000000  ...   \n",
       "max           1.000000                1.000000          1.000000  ...   \n",
       "\n",
       "       cam_herbal  cam_homeopathy  cam_massage  cam_naturopathy  cam_vitamins  \\\n",
       "count  486.000000      486.000000   485.000000       485.000000    486.000000   \n",
       "mean     0.100823        0.032922     0.078351         0.035052      0.096708   \n",
       "std      0.301405        0.178616     0.269000         0.184100      0.295864   \n",
       "min      0.000000        0.000000     0.000000         0.000000      0.000000   \n",
       "25%      0.000000        0.000000     0.000000         0.000000      0.000000   \n",
       "50%      0.000000        0.000000     0.000000         0.000000      0.000000   \n",
       "75%      0.000000        0.000000     0.000000         0.000000      0.000000   \n",
       "max      1.000000        1.000000     1.000000         1.000000      1.000000   \n",
       "\n",
       "        cam_other   cam_types       resuse         age  true_other_cam  \n",
       "count  485.000000  486.000000   486.000000  486.000000       36.000000  \n",
       "mean     0.162887    0.701646    92.460376   52.213169        0.222222  \n",
       "std      0.369643    1.271203   140.603572   14.655861        0.421637  \n",
       "min      0.000000    0.000000     0.000000   18.992470        0.000000  \n",
       "25%      0.000000    0.000000     6.522182   42.120468        0.000000  \n",
       "50%      0.000000    0.000000    45.655270   51.726215        0.000000  \n",
       "75%      0.000000    1.000000   142.944475   63.172488        0.000000  \n",
       "max      1.000000    7.000000  1334.000000   97.281310        1.000000  \n",
       "\n",
       "[8 rows x 21 columns]"
      ]
     },
     "execution_count": 20,
     "metadata": {},
     "output_type": "execute_result"
    }
   ],
   "source": [
    "df.describe()"
   ]
  },
  {
   "cell_type": "code",
   "execution_count": 21,
   "id": "0c3a96b4-081d-493f-b8e2-ea13545d3aff",
   "metadata": {},
   "outputs": [
    {
     "data": {
      "text/html": [
       "<div>\n",
       "<style scoped>\n",
       "    .dataframe tbody tr th:only-of-type {\n",
       "        vertical-align: middle;\n",
       "    }\n",
       "\n",
       "    .dataframe tbody tr th {\n",
       "        vertical-align: top;\n",
       "    }\n",
       "\n",
       "    .dataframe thead th {\n",
       "        text-align: right;\n",
       "    }\n",
       "</style>\n",
       "<table border=\"1\" class=\"dataframe\">\n",
       "  <thead>\n",
       "    <tr style=\"text-align: right;\">\n",
       "      <th></th>\n",
       "      <th>Asthma_ER_or_Hospitalization</th>\n",
       "      <th>fev1_to_fvc</th>\n",
       "      <th>fvc</th>\n",
       "      <th>fev1</th>\n",
       "      <th>predicted_fev1</th>\n",
       "      <th>fev1_over_pred</th>\n",
       "      <th>Control_with_missing_data</th>\n",
       "      <th>Control_without_missing_data</th>\n",
       "      <th>cam_acupuncture</th>\n",
       "      <th>cam_breathingexercises</th>\n",
       "      <th>...</th>\n",
       "      <th>cam_use</th>\n",
       "      <th>cam_types</th>\n",
       "      <th>controller_medicine_use</th>\n",
       "      <th>resuse</th>\n",
       "      <th>age</th>\n",
       "      <th>ethnicity</th>\n",
       "      <th>household_income</th>\n",
       "      <th>sex</th>\n",
       "      <th>education</th>\n",
       "      <th>true_other_cam</th>\n",
       "    </tr>\n",
       "    <tr>\n",
       "      <th>ID</th>\n",
       "      <th></th>\n",
       "      <th></th>\n",
       "      <th></th>\n",
       "      <th></th>\n",
       "      <th></th>\n",
       "      <th></th>\n",
       "      <th></th>\n",
       "      <th></th>\n",
       "      <th></th>\n",
       "      <th></th>\n",
       "      <th></th>\n",
       "      <th></th>\n",
       "      <th></th>\n",
       "      <th></th>\n",
       "      <th></th>\n",
       "      <th></th>\n",
       "      <th></th>\n",
       "      <th></th>\n",
       "      <th></th>\n",
       "      <th></th>\n",
       "      <th></th>\n",
       "    </tr>\n",
       "  </thead>\n",
       "  <tbody>\n",
       "    <tr>\n",
       "      <th>1</th>\n",
       "      <td>0</td>\n",
       "      <td>81.8</td>\n",
       "      <td>3.66</td>\n",
       "      <td>2.99</td>\n",
       "      <td>2.90534</td>\n",
       "      <td>1.02914</td>\n",
       "      <td>Partially controlled</td>\n",
       "      <td>1</td>\n",
       "      <td>0</td>\n",
       "      <td>0</td>\n",
       "      <td>...</td>\n",
       "      <td>N0</td>\n",
       "      <td>0</td>\n",
       "      <td>0.5&lt;=PDC&lt;0.8</td>\n",
       "      <td>0.00000</td>\n",
       "      <td>58.72416</td>\n",
       "      <td>White</td>\n",
       "      <td>&gt;=$6,000</td>\n",
       "      <td>Female</td>\n",
       "      <td>College/University and above</td>\n",
       "      <td>NaN</td>\n",
       "    </tr>\n",
       "    <tr>\n",
       "      <th>2</th>\n",
       "      <td>0</td>\n",
       "      <td>40.3</td>\n",
       "      <td>5.79</td>\n",
       "      <td>2.34</td>\n",
       "      <td>4.10450</td>\n",
       "      <td>0.57011</td>\n",
       "      <td>Uncontrolled</td>\n",
       "      <td>2</td>\n",
       "      <td>0</td>\n",
       "      <td>0</td>\n",
       "      <td>...</td>\n",
       "      <td>N0</td>\n",
       "      <td>0</td>\n",
       "      <td>PDC&gt;=0.8</td>\n",
       "      <td>0.00000</td>\n",
       "      <td>62.43943</td>\n",
       "      <td>White</td>\n",
       "      <td>&lt;$6,000</td>\n",
       "      <td>Male</td>\n",
       "      <td>College/University and above</td>\n",
       "      <td>NaN</td>\n",
       "    </tr>\n",
       "    <tr>\n",
       "      <th>3</th>\n",
       "      <td>0</td>\n",
       "      <td>84.5</td>\n",
       "      <td>3.28</td>\n",
       "      <td>2.77</td>\n",
       "      <td>2.96384</td>\n",
       "      <td>0.93460</td>\n",
       "      <td>Partially controlled</td>\n",
       "      <td>1</td>\n",
       "      <td>0</td>\n",
       "      <td>1</td>\n",
       "      <td>...</td>\n",
       "      <td>Yes</td>\n",
       "      <td>2</td>\n",
       "      <td>PDC&lt;0.5</td>\n",
       "      <td>152.18420</td>\n",
       "      <td>36.49555</td>\n",
       "      <td>Other</td>\n",
       "      <td>&lt;$6,000</td>\n",
       "      <td>Female</td>\n",
       "      <td>Less than college</td>\n",
       "      <td>NaN</td>\n",
       "    </tr>\n",
       "    <tr>\n",
       "      <th>4</th>\n",
       "      <td>0</td>\n",
       "      <td>74.6</td>\n",
       "      <td>3.96</td>\n",
       "      <td>2.96</td>\n",
       "      <td>3.71314</td>\n",
       "      <td>0.79717</td>\n",
       "      <td>Partially controlled</td>\n",
       "      <td>1</td>\n",
       "      <td>0</td>\n",
       "      <td>0</td>\n",
       "      <td>...</td>\n",
       "      <td>Yes</td>\n",
       "      <td>1</td>\n",
       "      <td>PDC&lt;0.5</td>\n",
       "      <td>45.65527</td>\n",
       "      <td>39.07734</td>\n",
       "      <td>Asian</td>\n",
       "      <td>&gt;=$6,000</td>\n",
       "      <td>Male</td>\n",
       "      <td>Less than college</td>\n",
       "      <td>NaN</td>\n",
       "    </tr>\n",
       "    <tr>\n",
       "      <th>5</th>\n",
       "      <td>1</td>\n",
       "      <td>85.5</td>\n",
       "      <td>3.62</td>\n",
       "      <td>3.10</td>\n",
       "      <td>3.56950</td>\n",
       "      <td>0.86847</td>\n",
       "      <td>Uncontrolled</td>\n",
       "      <td>2</td>\n",
       "      <td>0</td>\n",
       "      <td>1</td>\n",
       "      <td>...</td>\n",
       "      <td>Yes</td>\n",
       "      <td>3</td>\n",
       "      <td>PDC&gt;=0.8</td>\n",
       "      <td>84.78836</td>\n",
       "      <td>49.21287</td>\n",
       "      <td>White</td>\n",
       "      <td>&lt;$6,000</td>\n",
       "      <td>Male</td>\n",
       "      <td>College/University and above</td>\n",
       "      <td>NaN</td>\n",
       "    </tr>\n",
       "  </tbody>\n",
       "</table>\n",
       "<p>5 rows × 28 columns</p>\n",
       "</div>"
      ],
      "text/plain": [
       "    Asthma_ER_or_Hospitalization  fev1_to_fvc   fvc  fev1  predicted_fev1  \\\n",
       "ID                                                                          \n",
       "1                              0         81.8  3.66  2.99         2.90534   \n",
       "2                              0         40.3  5.79  2.34         4.10450   \n",
       "3                              0         84.5  3.28  2.77         2.96384   \n",
       "4                              0         74.6  3.96  2.96         3.71314   \n",
       "5                              1         85.5  3.62  3.10         3.56950   \n",
       "\n",
       "    fev1_over_pred Control_with_missing_data  Control_without_missing_data  \\\n",
       "ID                                                                           \n",
       "1          1.02914      Partially controlled                             1   \n",
       "2          0.57011              Uncontrolled                             2   \n",
       "3          0.93460      Partially controlled                             1   \n",
       "4          0.79717      Partially controlled                             1   \n",
       "5          0.86847              Uncontrolled                             2   \n",
       "\n",
       "    cam_acupuncture  cam_breathingexercises  ...  cam_use  cam_types  \\\n",
       "ID                                           ...                       \n",
       "1                 0                       0  ...       N0          0   \n",
       "2                 0                       0  ...       N0          0   \n",
       "3                 0                       1  ...      Yes          2   \n",
       "4                 0                       0  ...      Yes          1   \n",
       "5                 0                       1  ...      Yes          3   \n",
       "\n",
       "    controller_medicine_use     resuse       age  ethnicity  household_income  \\\n",
       "ID                                                                              \n",
       "1              0.5<=PDC<0.8    0.00000  58.72416      White          >=$6,000   \n",
       "2                  PDC>=0.8    0.00000  62.43943      White           <$6,000   \n",
       "3                   PDC<0.5  152.18420  36.49555      Other           <$6,000   \n",
       "4                   PDC<0.5   45.65527  39.07734      Asian          >=$6,000   \n",
       "5                  PDC>=0.8   84.78836  49.21287      White           <$6,000   \n",
       "\n",
       "       sex                     education  true_other_cam  \n",
       "ID                                                        \n",
       "1   Female  College/University and above             NaN  \n",
       "2     Male  College/University and above             NaN  \n",
       "3   Female             Less than college             NaN  \n",
       "4     Male             Less than college             NaN  \n",
       "5     Male  College/University and above             NaN  \n",
       "\n",
       "[5 rows x 28 columns]"
      ]
     },
     "execution_count": 21,
     "metadata": {},
     "output_type": "execute_result"
    }
   ],
   "source": [
    "df.head()"
   ]
  },
  {
   "cell_type": "code",
   "execution_count": 22,
   "id": "bead9020-09b5-4d30-bebc-67ebf3a0aba0",
   "metadata": {},
   "outputs": [
    {
     "data": {
      "text/html": [
       "<div>\n",
       "<style scoped>\n",
       "    .dataframe tbody tr th:only-of-type {\n",
       "        vertical-align: middle;\n",
       "    }\n",
       "\n",
       "    .dataframe tbody tr th {\n",
       "        vertical-align: top;\n",
       "    }\n",
       "\n",
       "    .dataframe thead th {\n",
       "        text-align: right;\n",
       "    }\n",
       "</style>\n",
       "<table border=\"1\" class=\"dataframe\">\n",
       "  <thead>\n",
       "    <tr style=\"text-align: right;\">\n",
       "      <th></th>\n",
       "      <th>Asthma_ER_or_Hospitalization</th>\n",
       "      <th>fev1_to_fvc</th>\n",
       "      <th>fvc</th>\n",
       "      <th>fev1</th>\n",
       "      <th>predicted_fev1</th>\n",
       "      <th>fev1_over_pred</th>\n",
       "      <th>Control_without_missing_data</th>\n",
       "      <th>cam_acupuncture</th>\n",
       "      <th>cam_breathingexercises</th>\n",
       "      <th>cam_chiropractic</th>\n",
       "      <th>...</th>\n",
       "      <th>cam_herbal</th>\n",
       "      <th>cam_homeopathy</th>\n",
       "      <th>cam_massage</th>\n",
       "      <th>cam_naturopathy</th>\n",
       "      <th>cam_vitamins</th>\n",
       "      <th>cam_other</th>\n",
       "      <th>cam_types</th>\n",
       "      <th>resuse</th>\n",
       "      <th>age</th>\n",
       "      <th>true_other_cam</th>\n",
       "    </tr>\n",
       "  </thead>\n",
       "  <tbody>\n",
       "    <tr>\n",
       "      <th>Asthma_ER_or_Hospitalization</th>\n",
       "      <td>1.000000</td>\n",
       "      <td>-0.005270</td>\n",
       "      <td>-0.119375</td>\n",
       "      <td>-0.152278</td>\n",
       "      <td>-0.053789</td>\n",
       "      <td>-0.093905</td>\n",
       "      <td>1.674718e-01</td>\n",
       "      <td>0.017884</td>\n",
       "      <td>0.041927</td>\n",
       "      <td>-0.065348</td>\n",
       "      <td>...</td>\n",
       "      <td>0.015325</td>\n",
       "      <td>0.039813</td>\n",
       "      <td>-0.050003</td>\n",
       "      <td>0.035490</td>\n",
       "      <td>0.074016</td>\n",
       "      <td>0.031970</td>\n",
       "      <td>0.051732</td>\n",
       "      <td>0.253412</td>\n",
       "      <td>-0.005826</td>\n",
       "      <td>-1.296407e-01</td>\n",
       "    </tr>\n",
       "    <tr>\n",
       "      <th>fev1_to_fvc</th>\n",
       "      <td>-0.005270</td>\n",
       "      <td>1.000000</td>\n",
       "      <td>0.059789</td>\n",
       "      <td>0.267919</td>\n",
       "      <td>0.103717</td>\n",
       "      <td>0.183338</td>\n",
       "      <td>-2.317537e-01</td>\n",
       "      <td>0.024241</td>\n",
       "      <td>-0.080890</td>\n",
       "      <td>-0.017160</td>\n",
       "      <td>...</td>\n",
       "      <td>0.029677</td>\n",
       "      <td>0.045065</td>\n",
       "      <td>-0.006342</td>\n",
       "      <td>0.015563</td>\n",
       "      <td>0.043275</td>\n",
       "      <td>0.051589</td>\n",
       "      <td>0.004405</td>\n",
       "      <td>-0.124180</td>\n",
       "      <td>-0.272270</td>\n",
       "      <td>5.602459e-02</td>\n",
       "    </tr>\n",
       "    <tr>\n",
       "      <th>fvc</th>\n",
       "      <td>-0.119375</td>\n",
       "      <td>0.059789</td>\n",
       "      <td>1.000000</td>\n",
       "      <td>0.906647</td>\n",
       "      <td>0.821151</td>\n",
       "      <td>0.319966</td>\n",
       "      <td>-1.990539e-01</td>\n",
       "      <td>-0.004393</td>\n",
       "      <td>-0.146781</td>\n",
       "      <td>0.035012</td>\n",
       "      <td>...</td>\n",
       "      <td>-0.030876</td>\n",
       "      <td>-0.050036</td>\n",
       "      <td>-0.079877</td>\n",
       "      <td>-0.021879</td>\n",
       "      <td>-0.030097</td>\n",
       "      <td>-0.101805</td>\n",
       "      <td>-0.084223</td>\n",
       "      <td>-0.162980</td>\n",
       "      <td>-0.427790</td>\n",
       "      <td>1.378711e-02</td>\n",
       "    </tr>\n",
       "    <tr>\n",
       "      <th>fev1</th>\n",
       "      <td>-0.152278</td>\n",
       "      <td>0.267919</td>\n",
       "      <td>0.906647</td>\n",
       "      <td>1.000000</td>\n",
       "      <td>0.768764</td>\n",
       "      <td>0.438992</td>\n",
       "      <td>-2.400753e-01</td>\n",
       "      <td>-0.004305</td>\n",
       "      <td>-0.151530</td>\n",
       "      <td>0.008636</td>\n",
       "      <td>...</td>\n",
       "      <td>-0.012978</td>\n",
       "      <td>-0.013964</td>\n",
       "      <td>-0.040262</td>\n",
       "      <td>-0.002046</td>\n",
       "      <td>-0.039623</td>\n",
       "      <td>-0.055588</td>\n",
       "      <td>-0.062031</td>\n",
       "      <td>-0.201157</td>\n",
       "      <td>-0.580744</td>\n",
       "      <td>-9.781783e-03</td>\n",
       "    </tr>\n",
       "    <tr>\n",
       "      <th>predicted_fev1</th>\n",
       "      <td>-0.053789</td>\n",
       "      <td>0.103717</td>\n",
       "      <td>0.821151</td>\n",
       "      <td>0.768764</td>\n",
       "      <td>1.000000</td>\n",
       "      <td>0.159009</td>\n",
       "      <td>-7.196504e-02</td>\n",
       "      <td>-0.009039</td>\n",
       "      <td>-0.147676</td>\n",
       "      <td>-0.036288</td>\n",
       "      <td>...</td>\n",
       "      <td>0.013397</td>\n",
       "      <td>0.018175</td>\n",
       "      <td>-0.068519</td>\n",
       "      <td>-0.006087</td>\n",
       "      <td>-0.035172</td>\n",
       "      <td>-0.099868</td>\n",
       "      <td>-0.078597</td>\n",
       "      <td>-0.081046</td>\n",
       "      <td>-0.634597</td>\n",
       "      <td>-1.154147e-01</td>\n",
       "    </tr>\n",
       "    <tr>\n",
       "      <th>fev1_over_pred</th>\n",
       "      <td>-0.093905</td>\n",
       "      <td>0.183338</td>\n",
       "      <td>0.319966</td>\n",
       "      <td>0.438992</td>\n",
       "      <td>0.159009</td>\n",
       "      <td>1.000000</td>\n",
       "      <td>-2.155805e-01</td>\n",
       "      <td>0.014679</td>\n",
       "      <td>-0.119445</td>\n",
       "      <td>0.046410</td>\n",
       "      <td>...</td>\n",
       "      <td>-0.004953</td>\n",
       "      <td>-0.018683</td>\n",
       "      <td>0.022280</td>\n",
       "      <td>0.007297</td>\n",
       "      <td>0.011204</td>\n",
       "      <td>0.034372</td>\n",
       "      <td>-0.005093</td>\n",
       "      <td>-0.173594</td>\n",
       "      <td>-0.106139</td>\n",
       "      <td>2.655498e-02</td>\n",
       "    </tr>\n",
       "    <tr>\n",
       "      <th>Control_without_missing_data</th>\n",
       "      <td>0.167472</td>\n",
       "      <td>-0.231754</td>\n",
       "      <td>-0.199054</td>\n",
       "      <td>-0.240075</td>\n",
       "      <td>-0.071965</td>\n",
       "      <td>-0.215581</td>\n",
       "      <td>1.000000e+00</td>\n",
       "      <td>0.095126</td>\n",
       "      <td>0.103109</td>\n",
       "      <td>0.114427</td>\n",
       "      <td>...</td>\n",
       "      <td>0.112506</td>\n",
       "      <td>0.008308</td>\n",
       "      <td>0.110433</td>\n",
       "      <td>0.005273</td>\n",
       "      <td>0.100136</td>\n",
       "      <td>0.067096</td>\n",
       "      <td>0.164018</td>\n",
       "      <td>0.341344</td>\n",
       "      <td>0.070829</td>\n",
       "      <td>-3.664036e-17</td>\n",
       "    </tr>\n",
       "    <tr>\n",
       "      <th>cam_acupuncture</th>\n",
       "      <td>0.017884</td>\n",
       "      <td>0.024241</td>\n",
       "      <td>-0.004393</td>\n",
       "      <td>-0.004305</td>\n",
       "      <td>-0.009039</td>\n",
       "      <td>0.014679</td>\n",
       "      <td>9.512590e-02</td>\n",
       "      <td>1.000000</td>\n",
       "      <td>0.080580</td>\n",
       "      <td>0.168066</td>\n",
       "      <td>...</td>\n",
       "      <td>0.255807</td>\n",
       "      <td>0.292643</td>\n",
       "      <td>0.342033</td>\n",
       "      <td>0.335584</td>\n",
       "      <td>0.297117</td>\n",
       "      <td>0.011176</td>\n",
       "      <td>0.511006</td>\n",
       "      <td>0.084468</td>\n",
       "      <td>-0.061412</td>\n",
       "      <td>NaN</td>\n",
       "    </tr>\n",
       "    <tr>\n",
       "      <th>cam_breathingexercises</th>\n",
       "      <td>0.041927</td>\n",
       "      <td>-0.080890</td>\n",
       "      <td>-0.146781</td>\n",
       "      <td>-0.151530</td>\n",
       "      <td>-0.147676</td>\n",
       "      <td>-0.119445</td>\n",
       "      <td>1.031085e-01</td>\n",
       "      <td>0.080580</td>\n",
       "      <td>1.000000</td>\n",
       "      <td>0.249009</td>\n",
       "      <td>...</td>\n",
       "      <td>0.202870</td>\n",
       "      <td>0.095749</td>\n",
       "      <td>0.306597</td>\n",
       "      <td>0.116990</td>\n",
       "      <td>0.213125</td>\n",
       "      <td>0.146073</td>\n",
       "      <td>0.601445</td>\n",
       "      <td>0.095480</td>\n",
       "      <td>-0.011352</td>\n",
       "      <td>NaN</td>\n",
       "    </tr>\n",
       "    <tr>\n",
       "      <th>cam_chiropractic</th>\n",
       "      <td>-0.065348</td>\n",
       "      <td>-0.017160</td>\n",
       "      <td>0.035012</td>\n",
       "      <td>0.008636</td>\n",
       "      <td>-0.036288</td>\n",
       "      <td>0.046410</td>\n",
       "      <td>1.144273e-01</td>\n",
       "      <td>0.168066</td>\n",
       "      <td>0.249009</td>\n",
       "      <td>1.000000</td>\n",
       "      <td>...</td>\n",
       "      <td>0.102459</td>\n",
       "      <td>0.161044</td>\n",
       "      <td>0.373357</td>\n",
       "      <td>0.253282</td>\n",
       "      <td>0.169581</td>\n",
       "      <td>-0.005827</td>\n",
       "      <td>0.502208</td>\n",
       "      <td>-0.001137</td>\n",
       "      <td>-0.011302</td>\n",
       "      <td>NaN</td>\n",
       "    </tr>\n",
       "    <tr>\n",
       "      <th>cam_dieting</th>\n",
       "      <td>0.123176</td>\n",
       "      <td>0.016669</td>\n",
       "      <td>-0.018579</td>\n",
       "      <td>0.027376</td>\n",
       "      <td>-0.038289</td>\n",
       "      <td>0.071626</td>\n",
       "      <td>1.036150e-01</td>\n",
       "      <td>0.006684</td>\n",
       "      <td>0.233672</td>\n",
       "      <td>0.095027</td>\n",
       "      <td>...</td>\n",
       "      <td>0.173070</td>\n",
       "      <td>0.070518</td>\n",
       "      <td>0.163465</td>\n",
       "      <td>0.187390</td>\n",
       "      <td>0.205826</td>\n",
       "      <td>0.131624</td>\n",
       "      <td>0.465220</td>\n",
       "      <td>0.067590</td>\n",
       "      <td>-0.005953</td>\n",
       "      <td>NaN</td>\n",
       "    </tr>\n",
       "    <tr>\n",
       "      <th>cam_herbal</th>\n",
       "      <td>0.015325</td>\n",
       "      <td>0.029677</td>\n",
       "      <td>-0.030876</td>\n",
       "      <td>-0.012978</td>\n",
       "      <td>0.013397</td>\n",
       "      <td>-0.004953</td>\n",
       "      <td>1.125057e-01</td>\n",
       "      <td>0.255807</td>\n",
       "      <td>0.202870</td>\n",
       "      <td>0.102459</td>\n",
       "      <td>...</td>\n",
       "      <td>1.000000</td>\n",
       "      <td>0.206311</td>\n",
       "      <td>0.186005</td>\n",
       "      <td>0.122111</td>\n",
       "      <td>0.260379</td>\n",
       "      <td>0.130038</td>\n",
       "      <td>0.541471</td>\n",
       "      <td>0.014923</td>\n",
       "      <td>-0.048282</td>\n",
       "      <td>NaN</td>\n",
       "    </tr>\n",
       "    <tr>\n",
       "      <th>cam_homeopathy</th>\n",
       "      <td>0.039813</td>\n",
       "      <td>0.045065</td>\n",
       "      <td>-0.050036</td>\n",
       "      <td>-0.013964</td>\n",
       "      <td>0.018175</td>\n",
       "      <td>-0.018683</td>\n",
       "      <td>8.307585e-03</td>\n",
       "      <td>0.292643</td>\n",
       "      <td>0.095749</td>\n",
       "      <td>0.161044</td>\n",
       "      <td>...</td>\n",
       "      <td>0.206311</td>\n",
       "      <td>1.000000</td>\n",
       "      <td>0.203898</td>\n",
       "      <td>0.341414</td>\n",
       "      <td>0.212743</td>\n",
       "      <td>0.106098</td>\n",
       "      <td>0.451984</td>\n",
       "      <td>0.022050</td>\n",
       "      <td>-0.046792</td>\n",
       "      <td>NaN</td>\n",
       "    </tr>\n",
       "    <tr>\n",
       "      <th>cam_massage</th>\n",
       "      <td>-0.050003</td>\n",
       "      <td>-0.006342</td>\n",
       "      <td>-0.079877</td>\n",
       "      <td>-0.040262</td>\n",
       "      <td>-0.068519</td>\n",
       "      <td>0.022280</td>\n",
       "      <td>1.104331e-01</td>\n",
       "      <td>0.342033</td>\n",
       "      <td>0.306597</td>\n",
       "      <td>0.373357</td>\n",
       "      <td>...</td>\n",
       "      <td>0.186005</td>\n",
       "      <td>0.203898</td>\n",
       "      <td>1.000000</td>\n",
       "      <td>0.152937</td>\n",
       "      <td>0.403171</td>\n",
       "      <td>0.141285</td>\n",
       "      <td>0.649189</td>\n",
       "      <td>0.042603</td>\n",
       "      <td>-0.022185</td>\n",
       "      <td>NaN</td>\n",
       "    </tr>\n",
       "    <tr>\n",
       "      <th>cam_naturopathy</th>\n",
       "      <td>0.035490</td>\n",
       "      <td>0.015563</td>\n",
       "      <td>-0.021879</td>\n",
       "      <td>-0.002046</td>\n",
       "      <td>-0.006087</td>\n",
       "      <td>0.007297</td>\n",
       "      <td>5.273423e-03</td>\n",
       "      <td>0.335584</td>\n",
       "      <td>0.116990</td>\n",
       "      <td>0.253282</td>\n",
       "      <td>...</td>\n",
       "      <td>0.122111</td>\n",
       "      <td>0.341414</td>\n",
       "      <td>0.152937</td>\n",
       "      <td>1.000000</td>\n",
       "      <td>0.240746</td>\n",
       "      <td>0.067733</td>\n",
       "      <td>0.485637</td>\n",
       "      <td>-0.034943</td>\n",
       "      <td>-0.032468</td>\n",
       "      <td>NaN</td>\n",
       "    </tr>\n",
       "    <tr>\n",
       "      <th>cam_vitamins</th>\n",
       "      <td>0.074016</td>\n",
       "      <td>0.043275</td>\n",
       "      <td>-0.030097</td>\n",
       "      <td>-0.039623</td>\n",
       "      <td>-0.035172</td>\n",
       "      <td>0.011204</td>\n",
       "      <td>1.001363e-01</td>\n",
       "      <td>0.297117</td>\n",
       "      <td>0.213125</td>\n",
       "      <td>0.169581</td>\n",
       "      <td>...</td>\n",
       "      <td>0.260379</td>\n",
       "      <td>0.212743</td>\n",
       "      <td>0.403171</td>\n",
       "      <td>0.240746</td>\n",
       "      <td>1.000000</td>\n",
       "      <td>0.232995</td>\n",
       "      <td>0.630572</td>\n",
       "      <td>0.062779</td>\n",
       "      <td>0.030111</td>\n",
       "      <td>NaN</td>\n",
       "    </tr>\n",
       "    <tr>\n",
       "      <th>cam_other</th>\n",
       "      <td>0.031970</td>\n",
       "      <td>0.051589</td>\n",
       "      <td>-0.101805</td>\n",
       "      <td>-0.055588</td>\n",
       "      <td>-0.099868</td>\n",
       "      <td>0.034372</td>\n",
       "      <td>6.709576e-02</td>\n",
       "      <td>0.011176</td>\n",
       "      <td>0.146073</td>\n",
       "      <td>-0.005827</td>\n",
       "      <td>...</td>\n",
       "      <td>0.130038</td>\n",
       "      <td>0.106098</td>\n",
       "      <td>0.141285</td>\n",
       "      <td>0.067733</td>\n",
       "      <td>0.232995</td>\n",
       "      <td>1.000000</td>\n",
       "      <td>0.212907</td>\n",
       "      <td>0.009599</td>\n",
       "      <td>0.046797</td>\n",
       "      <td>NaN</td>\n",
       "    </tr>\n",
       "    <tr>\n",
       "      <th>cam_types</th>\n",
       "      <td>0.051732</td>\n",
       "      <td>0.004405</td>\n",
       "      <td>-0.084223</td>\n",
       "      <td>-0.062031</td>\n",
       "      <td>-0.078597</td>\n",
       "      <td>-0.005093</td>\n",
       "      <td>1.640179e-01</td>\n",
       "      <td>0.511006</td>\n",
       "      <td>0.601445</td>\n",
       "      <td>0.502208</td>\n",
       "      <td>...</td>\n",
       "      <td>0.541471</td>\n",
       "      <td>0.451984</td>\n",
       "      <td>0.649189</td>\n",
       "      <td>0.485637</td>\n",
       "      <td>0.630572</td>\n",
       "      <td>0.212907</td>\n",
       "      <td>1.000000</td>\n",
       "      <td>0.082319</td>\n",
       "      <td>-0.036785</td>\n",
       "      <td>NaN</td>\n",
       "    </tr>\n",
       "    <tr>\n",
       "      <th>resuse</th>\n",
       "      <td>0.253412</td>\n",
       "      <td>-0.124180</td>\n",
       "      <td>-0.162980</td>\n",
       "      <td>-0.201157</td>\n",
       "      <td>-0.081046</td>\n",
       "      <td>-0.173594</td>\n",
       "      <td>3.413442e-01</td>\n",
       "      <td>0.084468</td>\n",
       "      <td>0.095480</td>\n",
       "      <td>-0.001137</td>\n",
       "      <td>...</td>\n",
       "      <td>0.014923</td>\n",
       "      <td>0.022050</td>\n",
       "      <td>0.042603</td>\n",
       "      <td>-0.034943</td>\n",
       "      <td>0.062779</td>\n",
       "      <td>0.009599</td>\n",
       "      <td>0.082319</td>\n",
       "      <td>1.000000</td>\n",
       "      <td>0.032839</td>\n",
       "      <td>1.851349e-01</td>\n",
       "    </tr>\n",
       "    <tr>\n",
       "      <th>age</th>\n",
       "      <td>-0.005826</td>\n",
       "      <td>-0.272270</td>\n",
       "      <td>-0.427790</td>\n",
       "      <td>-0.580744</td>\n",
       "      <td>-0.634597</td>\n",
       "      <td>-0.106139</td>\n",
       "      <td>7.082896e-02</td>\n",
       "      <td>-0.061412</td>\n",
       "      <td>-0.011352</td>\n",
       "      <td>-0.011302</td>\n",
       "      <td>...</td>\n",
       "      <td>-0.048282</td>\n",
       "      <td>-0.046792</td>\n",
       "      <td>-0.022185</td>\n",
       "      <td>-0.032468</td>\n",
       "      <td>0.030111</td>\n",
       "      <td>0.046797</td>\n",
       "      <td>-0.036785</td>\n",
       "      <td>0.032839</td>\n",
       "      <td>1.000000</td>\n",
       "      <td>-3.664015e-02</td>\n",
       "    </tr>\n",
       "    <tr>\n",
       "      <th>true_other_cam</th>\n",
       "      <td>-0.129641</td>\n",
       "      <td>0.056025</td>\n",
       "      <td>0.013787</td>\n",
       "      <td>-0.009782</td>\n",
       "      <td>-0.115415</td>\n",
       "      <td>0.026555</td>\n",
       "      <td>-3.664036e-17</td>\n",
       "      <td>NaN</td>\n",
       "      <td>NaN</td>\n",
       "      <td>NaN</td>\n",
       "      <td>...</td>\n",
       "      <td>NaN</td>\n",
       "      <td>NaN</td>\n",
       "      <td>NaN</td>\n",
       "      <td>NaN</td>\n",
       "      <td>NaN</td>\n",
       "      <td>NaN</td>\n",
       "      <td>NaN</td>\n",
       "      <td>0.185135</td>\n",
       "      <td>-0.036640</td>\n",
       "      <td>1.000000e+00</td>\n",
       "    </tr>\n",
       "  </tbody>\n",
       "</table>\n",
       "<p>21 rows × 21 columns</p>\n",
       "</div>"
      ],
      "text/plain": [
       "                              Asthma_ER_or_Hospitalization  fev1_to_fvc  \\\n",
       "Asthma_ER_or_Hospitalization                      1.000000    -0.005270   \n",
       "fev1_to_fvc                                      -0.005270     1.000000   \n",
       "fvc                                              -0.119375     0.059789   \n",
       "fev1                                             -0.152278     0.267919   \n",
       "predicted_fev1                                   -0.053789     0.103717   \n",
       "fev1_over_pred                                   -0.093905     0.183338   \n",
       "Control_without_missing_data                      0.167472    -0.231754   \n",
       "cam_acupuncture                                   0.017884     0.024241   \n",
       "cam_breathingexercises                            0.041927    -0.080890   \n",
       "cam_chiropractic                                 -0.065348    -0.017160   \n",
       "cam_dieting                                       0.123176     0.016669   \n",
       "cam_herbal                                        0.015325     0.029677   \n",
       "cam_homeopathy                                    0.039813     0.045065   \n",
       "cam_massage                                      -0.050003    -0.006342   \n",
       "cam_naturopathy                                   0.035490     0.015563   \n",
       "cam_vitamins                                      0.074016     0.043275   \n",
       "cam_other                                         0.031970     0.051589   \n",
       "cam_types                                         0.051732     0.004405   \n",
       "resuse                                            0.253412    -0.124180   \n",
       "age                                              -0.005826    -0.272270   \n",
       "true_other_cam                                   -0.129641     0.056025   \n",
       "\n",
       "                                   fvc      fev1  predicted_fev1  \\\n",
       "Asthma_ER_or_Hospitalization -0.119375 -0.152278       -0.053789   \n",
       "fev1_to_fvc                   0.059789  0.267919        0.103717   \n",
       "fvc                           1.000000  0.906647        0.821151   \n",
       "fev1                          0.906647  1.000000        0.768764   \n",
       "predicted_fev1                0.821151  0.768764        1.000000   \n",
       "fev1_over_pred                0.319966  0.438992        0.159009   \n",
       "Control_without_missing_data -0.199054 -0.240075       -0.071965   \n",
       "cam_acupuncture              -0.004393 -0.004305       -0.009039   \n",
       "cam_breathingexercises       -0.146781 -0.151530       -0.147676   \n",
       "cam_chiropractic              0.035012  0.008636       -0.036288   \n",
       "cam_dieting                  -0.018579  0.027376       -0.038289   \n",
       "cam_herbal                   -0.030876 -0.012978        0.013397   \n",
       "cam_homeopathy               -0.050036 -0.013964        0.018175   \n",
       "cam_massage                  -0.079877 -0.040262       -0.068519   \n",
       "cam_naturopathy              -0.021879 -0.002046       -0.006087   \n",
       "cam_vitamins                 -0.030097 -0.039623       -0.035172   \n",
       "cam_other                    -0.101805 -0.055588       -0.099868   \n",
       "cam_types                    -0.084223 -0.062031       -0.078597   \n",
       "resuse                       -0.162980 -0.201157       -0.081046   \n",
       "age                          -0.427790 -0.580744       -0.634597   \n",
       "true_other_cam                0.013787 -0.009782       -0.115415   \n",
       "\n",
       "                              fev1_over_pred  Control_without_missing_data  \\\n",
       "Asthma_ER_or_Hospitalization       -0.093905                  1.674718e-01   \n",
       "fev1_to_fvc                         0.183338                 -2.317537e-01   \n",
       "fvc                                 0.319966                 -1.990539e-01   \n",
       "fev1                                0.438992                 -2.400753e-01   \n",
       "predicted_fev1                      0.159009                 -7.196504e-02   \n",
       "fev1_over_pred                      1.000000                 -2.155805e-01   \n",
       "Control_without_missing_data       -0.215581                  1.000000e+00   \n",
       "cam_acupuncture                     0.014679                  9.512590e-02   \n",
       "cam_breathingexercises             -0.119445                  1.031085e-01   \n",
       "cam_chiropractic                    0.046410                  1.144273e-01   \n",
       "cam_dieting                         0.071626                  1.036150e-01   \n",
       "cam_herbal                         -0.004953                  1.125057e-01   \n",
       "cam_homeopathy                     -0.018683                  8.307585e-03   \n",
       "cam_massage                         0.022280                  1.104331e-01   \n",
       "cam_naturopathy                     0.007297                  5.273423e-03   \n",
       "cam_vitamins                        0.011204                  1.001363e-01   \n",
       "cam_other                           0.034372                  6.709576e-02   \n",
       "cam_types                          -0.005093                  1.640179e-01   \n",
       "resuse                             -0.173594                  3.413442e-01   \n",
       "age                                -0.106139                  7.082896e-02   \n",
       "true_other_cam                      0.026555                 -3.664036e-17   \n",
       "\n",
       "                              cam_acupuncture  cam_breathingexercises  \\\n",
       "Asthma_ER_or_Hospitalization         0.017884                0.041927   \n",
       "fev1_to_fvc                          0.024241               -0.080890   \n",
       "fvc                                 -0.004393               -0.146781   \n",
       "fev1                                -0.004305               -0.151530   \n",
       "predicted_fev1                      -0.009039               -0.147676   \n",
       "fev1_over_pred                       0.014679               -0.119445   \n",
       "Control_without_missing_data         0.095126                0.103109   \n",
       "cam_acupuncture                      1.000000                0.080580   \n",
       "cam_breathingexercises               0.080580                1.000000   \n",
       "cam_chiropractic                     0.168066                0.249009   \n",
       "cam_dieting                          0.006684                0.233672   \n",
       "cam_herbal                           0.255807                0.202870   \n",
       "cam_homeopathy                       0.292643                0.095749   \n",
       "cam_massage                          0.342033                0.306597   \n",
       "cam_naturopathy                      0.335584                0.116990   \n",
       "cam_vitamins                         0.297117                0.213125   \n",
       "cam_other                            0.011176                0.146073   \n",
       "cam_types                            0.511006                0.601445   \n",
       "resuse                               0.084468                0.095480   \n",
       "age                                 -0.061412               -0.011352   \n",
       "true_other_cam                            NaN                     NaN   \n",
       "\n",
       "                              cam_chiropractic  ...  cam_herbal  \\\n",
       "Asthma_ER_or_Hospitalization         -0.065348  ...    0.015325   \n",
       "fev1_to_fvc                          -0.017160  ...    0.029677   \n",
       "fvc                                   0.035012  ...   -0.030876   \n",
       "fev1                                  0.008636  ...   -0.012978   \n",
       "predicted_fev1                       -0.036288  ...    0.013397   \n",
       "fev1_over_pred                        0.046410  ...   -0.004953   \n",
       "Control_without_missing_data          0.114427  ...    0.112506   \n",
       "cam_acupuncture                       0.168066  ...    0.255807   \n",
       "cam_breathingexercises                0.249009  ...    0.202870   \n",
       "cam_chiropractic                      1.000000  ...    0.102459   \n",
       "cam_dieting                           0.095027  ...    0.173070   \n",
       "cam_herbal                            0.102459  ...    1.000000   \n",
       "cam_homeopathy                        0.161044  ...    0.206311   \n",
       "cam_massage                           0.373357  ...    0.186005   \n",
       "cam_naturopathy                       0.253282  ...    0.122111   \n",
       "cam_vitamins                          0.169581  ...    0.260379   \n",
       "cam_other                            -0.005827  ...    0.130038   \n",
       "cam_types                             0.502208  ...    0.541471   \n",
       "resuse                               -0.001137  ...    0.014923   \n",
       "age                                  -0.011302  ...   -0.048282   \n",
       "true_other_cam                             NaN  ...         NaN   \n",
       "\n",
       "                              cam_homeopathy  cam_massage  cam_naturopathy  \\\n",
       "Asthma_ER_or_Hospitalization        0.039813    -0.050003         0.035490   \n",
       "fev1_to_fvc                         0.045065    -0.006342         0.015563   \n",
       "fvc                                -0.050036    -0.079877        -0.021879   \n",
       "fev1                               -0.013964    -0.040262        -0.002046   \n",
       "predicted_fev1                      0.018175    -0.068519        -0.006087   \n",
       "fev1_over_pred                     -0.018683     0.022280         0.007297   \n",
       "Control_without_missing_data        0.008308     0.110433         0.005273   \n",
       "cam_acupuncture                     0.292643     0.342033         0.335584   \n",
       "cam_breathingexercises              0.095749     0.306597         0.116990   \n",
       "cam_chiropractic                    0.161044     0.373357         0.253282   \n",
       "cam_dieting                         0.070518     0.163465         0.187390   \n",
       "cam_herbal                          0.206311     0.186005         0.122111   \n",
       "cam_homeopathy                      1.000000     0.203898         0.341414   \n",
       "cam_massage                         0.203898     1.000000         0.152937   \n",
       "cam_naturopathy                     0.341414     0.152937         1.000000   \n",
       "cam_vitamins                        0.212743     0.403171         0.240746   \n",
       "cam_other                           0.106098     0.141285         0.067733   \n",
       "cam_types                           0.451984     0.649189         0.485637   \n",
       "resuse                              0.022050     0.042603        -0.034943   \n",
       "age                                -0.046792    -0.022185        -0.032468   \n",
       "true_other_cam                           NaN          NaN              NaN   \n",
       "\n",
       "                              cam_vitamins  cam_other  cam_types    resuse  \\\n",
       "Asthma_ER_or_Hospitalization      0.074016   0.031970   0.051732  0.253412   \n",
       "fev1_to_fvc                       0.043275   0.051589   0.004405 -0.124180   \n",
       "fvc                              -0.030097  -0.101805  -0.084223 -0.162980   \n",
       "fev1                             -0.039623  -0.055588  -0.062031 -0.201157   \n",
       "predicted_fev1                   -0.035172  -0.099868  -0.078597 -0.081046   \n",
       "fev1_over_pred                    0.011204   0.034372  -0.005093 -0.173594   \n",
       "Control_without_missing_data      0.100136   0.067096   0.164018  0.341344   \n",
       "cam_acupuncture                   0.297117   0.011176   0.511006  0.084468   \n",
       "cam_breathingexercises            0.213125   0.146073   0.601445  0.095480   \n",
       "cam_chiropractic                  0.169581  -0.005827   0.502208 -0.001137   \n",
       "cam_dieting                       0.205826   0.131624   0.465220  0.067590   \n",
       "cam_herbal                        0.260379   0.130038   0.541471  0.014923   \n",
       "cam_homeopathy                    0.212743   0.106098   0.451984  0.022050   \n",
       "cam_massage                       0.403171   0.141285   0.649189  0.042603   \n",
       "cam_naturopathy                   0.240746   0.067733   0.485637 -0.034943   \n",
       "cam_vitamins                      1.000000   0.232995   0.630572  0.062779   \n",
       "cam_other                         0.232995   1.000000   0.212907  0.009599   \n",
       "cam_types                         0.630572   0.212907   1.000000  0.082319   \n",
       "resuse                            0.062779   0.009599   0.082319  1.000000   \n",
       "age                               0.030111   0.046797  -0.036785  0.032839   \n",
       "true_other_cam                         NaN        NaN        NaN  0.185135   \n",
       "\n",
       "                                   age  true_other_cam  \n",
       "Asthma_ER_or_Hospitalization -0.005826   -1.296407e-01  \n",
       "fev1_to_fvc                  -0.272270    5.602459e-02  \n",
       "fvc                          -0.427790    1.378711e-02  \n",
       "fev1                         -0.580744   -9.781783e-03  \n",
       "predicted_fev1               -0.634597   -1.154147e-01  \n",
       "fev1_over_pred               -0.106139    2.655498e-02  \n",
       "Control_without_missing_data  0.070829   -3.664036e-17  \n",
       "cam_acupuncture              -0.061412             NaN  \n",
       "cam_breathingexercises       -0.011352             NaN  \n",
       "cam_chiropractic             -0.011302             NaN  \n",
       "cam_dieting                  -0.005953             NaN  \n",
       "cam_herbal                   -0.048282             NaN  \n",
       "cam_homeopathy               -0.046792             NaN  \n",
       "cam_massage                  -0.022185             NaN  \n",
       "cam_naturopathy              -0.032468             NaN  \n",
       "cam_vitamins                  0.030111             NaN  \n",
       "cam_other                     0.046797             NaN  \n",
       "cam_types                    -0.036785             NaN  \n",
       "resuse                        0.032839    1.851349e-01  \n",
       "age                           1.000000   -3.664015e-02  \n",
       "true_other_cam               -0.036640    1.000000e+00  \n",
       "\n",
       "[21 rows x 21 columns]"
      ]
     },
     "execution_count": 22,
     "metadata": {},
     "output_type": "execute_result"
    }
   ],
   "source": [
    "df.corr()"
   ]
  },
  {
   "cell_type": "code",
   "execution_count": 23,
   "id": "601f5bca-78fc-4539-9489-4c1b29d53cf4",
   "metadata": {},
   "outputs": [
    {
     "data": {
      "text/plain": [
       "ID\n",
       "1      2.99\n",
       "2      2.34\n",
       "3      2.77\n",
       "4      2.96\n",
       "5      3.10\n",
       "       ... \n",
       "482    3.61\n",
       "483    3.18\n",
       "484    1.84\n",
       "485     NaN\n",
       "486    3.43\n",
       "Name: fev1, Length: 486, dtype: float64"
      ]
     },
     "execution_count": 23,
     "metadata": {},
     "output_type": "execute_result"
    }
   ],
   "source": [
    "#for item in df.\n",
    "df['fev1']"
   ]
  },
  {
   "cell_type": "code",
   "execution_count": 24,
   "id": "14322ee4-a265-4b6c-a7cd-9e2a63324667",
   "metadata": {},
   "outputs": [],
   "source": [
    "data = df['fev1']"
   ]
  },
  {
   "cell_type": "code",
   "execution_count": 25,
   "id": "fa636995-6c4c-4ef4-9694-a07dca328818",
   "metadata": {},
   "outputs": [
    {
     "name": "stdout",
     "output_type": "stream",
     "text": [
      "ID\n",
      "1      2.99\n",
      "2      2.34\n",
      "3      2.77\n",
      "4      2.96\n",
      "5      3.10\n",
      "       ... \n",
      "482    3.61\n",
      "483    3.18\n",
      "484    1.84\n",
      "485     NaN\n",
      "486    3.43\n",
      "Name: fev1, Length: 486, dtype: float64\n"
     ]
    }
   ],
   "source": [
    "print(data)"
   ]
  },
  {
   "cell_type": "code",
   "execution_count": 26,
   "id": "7db909f0-6230-4626-ba24-90913267a06f",
   "metadata": {},
   "outputs": [],
   "source": [
    "import matplotlib.pyplot as plt\n",
    "%matplotlib inline"
   ]
  },
  {
   "cell_type": "code",
   "execution_count": 27,
   "id": "bf677d79-0fb8-48c8-ba18-4f65356f96e5",
   "metadata": {},
   "outputs": [
    {
     "data": {
      "text/plain": [
       "(array([12., 30., 81., 83., 91., 79., 55., 30., 14.,  8.]),\n",
       " array([0.62 , 1.065, 1.51 , 1.955, 2.4  , 2.845, 3.29 , 3.735, 4.18 ,\n",
       "        4.625, 5.07 ]),\n",
       " <BarContainer object of 10 artists>)"
      ]
     },
     "execution_count": 27,
     "metadata": {},
     "output_type": "execute_result"
    },
    {
     "data": {
      "image/png": "[encoded data removed]",
      "text/plain": [
       "<Figure size 432x288 with 1 Axes>"
      ]
     },
     "metadata": {
      "needs_background": "light"
     },
     "output_type": "display_data"
    }
   ],
   "source": [
    "plt.hist(data)"
   ]
  },
  {
   "cell_type": "code",
   "execution_count": 28,
   "id": "9cf691c2-8fe7-48cb-92e4-fdf6c2ccbd45",
   "metadata": {},
   "outputs": [],
   "source": [
    "import numpy as np\n",
    "rng = np.random.default_rng(seed=42)\n"
   ]
  },
  {
   "cell_type": "code",
   "execution_count": 29,
   "id": "02681142-c188-4e51-8e28-7f01eb4878b1",
   "metadata": {},
   "outputs": [],
   "source": [
    "fdata = rng.normal(2.61,.87,486)\n",
    "unique,count = np.unique(fdata,return_counts=True)"
   ]
  },
  {
   "cell_type": "code",
   "execution_count": 30,
   "id": "c295a7fa-636d-4c2a-899c-8f3fe60a5628",
   "metadata": {},
   "outputs": [
    {
     "data": {
      "text/plain": [
       "(array([  9.,  21.,  55.,  80., 110., 105.,  57.,  33.,  12.,   4.]),\n",
       " array([0.37700716, 0.85381248, 1.33061779, 1.80742311, 2.28422843,\n",
       "        2.76103375, 3.23783907, 3.71464439, 4.19144971, 4.66825503,\n",
       "        5.14506035]),\n",
       " <BarContainer object of 10 artists>)"
      ]
     },
     "execution_count": 30,
     "metadata": {},
     "output_type": "execute_result"
    },
    {
     "data": {
      "image/png": "[encoded data removed]",
      "text/plain": [
       "<Figure size 432x288 with 1 Axes>"
      ]
     },
     "metadata": {
      "needs_background": "light"
     },
     "output_type": "display_data"
    }
   ],
   "source": [
    "plt.hist(fdata)\n",
    "#plt.plot(count)"
   ]
  },
  {
   "cell_type": "code",
   "execution_count": 31,
   "id": "6767f809-937d-4681-8a69-e1003f041ece",
   "metadata": {},
   "outputs": [],
   "source": [
    "sum_cams = df['cam_types'].sum()"
   ]
  },
  {
   "cell_type": "code",
   "execution_count": 32,
   "id": "26a4b714-1a00-4957-be0e-2844dad46118",
   "metadata": {},
   "outputs": [
    {
     "name": "stdout",
     "output_type": "stream",
     "text": [
      "341\n"
     ]
    }
   ],
   "source": [
    "print(sum_cams)"
   ]
  },
  {
   "cell_type": "code",
   "execution_count": 33,
   "id": "51535f34-ccc7-4822-a0c5-2987f6af2986",
   "metadata": {},
   "outputs": [
    {
     "name": "stdout",
     "output_type": "stream",
     "text": [
      "0.7016460905349794\n"
     ]
    }
   ],
   "source": [
    "print(sum_cams/486)"
   ]
  },
  {
   "cell_type": "code",
   "execution_count": 34,
   "id": "405ec7da-72b6-4cfa-9b74-a51dcddbc0ce",
   "metadata": {},
   "outputs": [
    {
     "data": {
      "text/plain": [
       "315"
      ]
     },
     "execution_count": 34,
     "metadata": {},
     "output_type": "execute_result"
    }
   ],
   "source": [
    "sum(df['cam_types']==0)"
   ]
  },
  {
   "cell_type": "code",
   "execution_count": 35,
   "id": "6ed166ce-bee1-46ab-88c7-c032db8573ce",
   "metadata": {},
   "outputs": [
    {
     "data": {
      "text/plain": [
       "0.35185185185185186"
      ]
     },
     "execution_count": 35,
     "metadata": {},
     "output_type": "execute_result"
    }
   ],
   "source": [
    "(486 -315 )/486"
   ]
  },
  {
   "cell_type": "code",
   "execution_count": 36,
   "id": "336221bf-cd2a-4801-be63-3a6729c5f0ca",
   "metadata": {},
   "outputs": [],
   "source": [
    "cam_sum = df.sum()"
   ]
  },
  {
   "cell_type": "code",
   "execution_count": 37,
   "id": "dbef6f10-fcfb-4c0d-a677-c7e266e3cc83",
   "metadata": {},
   "outputs": [
    {
     "name": "stdout",
     "output_type": "stream",
     "text": [
      "Asthma_ER_or_Hospitalization                                                   34\n",
      "fev1_to_fvc                                                             30141.581\n",
      "fvc                                                                       1576.11\n",
      "fev1                                                                      1262.77\n",
      "predicted_fev1                                                         1466.73026\n",
      "fev1_over_pred                                                          410.27546\n",
      "Control_without_missing_data                                                  591\n",
      "cam_acupuncture                                                                22\n",
      "cam_breathingexercises                                                         86\n",
      "cam_chiropractic                                                             26.0\n",
      "cam_dieting                                                                  40.0\n",
      "cam_herbal                                                                     49\n",
      "cam_homeopathy                                                                 16\n",
      "cam_massage                                                                  38.0\n",
      "cam_naturopathy                                                              17.0\n",
      "cam_vitamins                                                                   47\n",
      "cam_other                                                                    79.0\n",
      "cam_use                         N0N0YesYesYesN0YesN0N0N0N0N0YesN0YesN0N0YesN0N...\n",
      "cam_types                                                                     341\n",
      "controller_medicine_use         0.5<=PDC<0.8PDC>=0.8PDC<0.5PDC<0.5PDC>=0.8PDC>...\n",
      "resuse                                                                44935.74288\n",
      "age                                                                   25375.60023\n",
      "ethnicity                       WhiteWhiteOtherAsianWhiteWhiteWhiteWhiteWhiteW...\n",
      "household_income                >=$6,000<$6,000<$6,000>=$6,000<$6,000>=$6,000<...\n",
      "sex                             FemaleMaleFemaleMaleMaleFemaleFemaleFemaleMale...\n",
      "education                       College/University and aboveCollege/University...\n",
      "true_other_cam                                                                8.0\n",
      "dtype: object\n"
     ]
    }
   ],
   "source": [
    "print(cam_sum)"
   ]
  },
  {
   "cell_type": "code",
   "execution_count": 90,
   "id": "fcee8a9c-0102-4945-8b5b-389e3daa0667",
   "metadata": {},
   "outputs": [
    {
     "data": {
      "text/plain": [
       "age           25375.60023\n",
       "cam_herbal             49\n",
       "dtype: object"
      ]
     },
     "execution_count": 90,
     "metadata": {},
     "output_type": "execute_result"
    }
   ],
   "source": [
    "cam_sum[['age', 'cam_herbal']]"
   ]
  },
  {
   "cell_type": "code",
   "execution_count": 39,
   "id": "ae0e907b-7336-44ea-a108-7399d2d1c4ba",
   "metadata": {},
   "outputs": [
    {
     "data": {
      "text/plain": [
       "Index(['Asthma_ER_or_Hospitalization', 'fev1_to_fvc', 'fvc', 'fev1',\n",
       "       'predicted_fev1', 'fev1_over_pred', 'Control_without_missing_data',\n",
       "       'cam_acupuncture', 'cam_breathingexercises', 'cam_chiropractic',\n",
       "       'cam_dieting', 'cam_herbal', 'cam_homeopathy', 'cam_massage',\n",
       "       'cam_naturopathy', 'cam_vitamins', 'cam_other', 'cam_use', 'cam_types',\n",
       "       'controller_medicine_use', 'resuse', 'age', 'ethnicity',\n",
       "       'household_income', 'sex', 'education', 'true_other_cam'],\n",
       "      dtype='object')"
      ]
     },
     "execution_count": 39,
     "metadata": {},
     "output_type": "execute_result"
    }
   ],
   "source": [
    "cam_sum.index"
   ]
  },
  {
   "cell_type": "code",
   "execution_count": 187,
   "id": "1fa28307-ed9c-46e2-941c-8652ddc17493",
   "metadata": {},
   "outputs": [
    {
     "name": "stdout",
     "output_type": "stream",
     "text": [
      "cam_acupuncture                                                          22\n",
      "cam_breathingexercises                                                   86\n",
      "cam_chiropractic                                                       26.0\n",
      "cam_dieting                                                            40.0\n",
      "cam_herbal                                                               49\n",
      "cam_homeopathy                                                           16\n",
      "cam_massage                                                            38.0\n",
      "cam_naturopathy                                                        17.0\n",
      "cam_vitamins                                                             47\n",
      "cam_other                                                              79.0\n",
      "cam_use                   N0N0YesYesYesN0YesN0N0N0N0N0YesN0YesN0N0YesN0N...\n",
      "dtype: object\n"
     ]
    }
   ],
   "source": [
    "cam_subset = []\n",
    "for item in df.columns:\n",
    "    if item[0:3]==\"cam\":\n",
    "        if item != \"cam_types\":\n",
    "            cam_subset.append(item)\n",
    "\n",
    "cam_sum = df[cam_subset].sum()\n",
    "print(cam_sum)"
   ]
  },
  {
   "cell_type": "code",
   "execution_count": 171,
   "id": "778ce035-ce7f-49e9-963f-416c70db8df1",
   "metadata": {},
   "outputs": [
    {
     "name": "stdout",
     "output_type": "stream",
     "text": [
      "179\n"
     ]
    }
   ],
   "source": [
    "count_yes = cam_sum['cam_use'].count(\"Yes\")\n",
    "print(count_yes)"
   ]
  },
  {
   "cell_type": "code",
   "execution_count": 188,
   "id": "3735b1ba-8a8c-4ff5-83f8-60045dca1bce",
   "metadata": {},
   "outputs": [],
   "source": [
    "plot_cam1 = cam_sum.drop(['cam_use'])"
   ]
  },
  {
   "cell_type": "code",
   "execution_count": 193,
   "id": "f4d66ecc-1efc-4833-b4f7-5f95aeb5315e",
   "metadata": {},
   "outputs": [],
   "source": [
    "cam_overall = pd.Series(count_yes)\n",
    "cam_overall.index=['cam_overall']\n",
    "plot_cam = plot_cam1.append([cam_overall])\n",
    "\n",
    "plot_cam.sort_values(ascending=False,inplace=True)\n",
    "#print(plot_cam.index)\n",
    "move = pd.Series(plot_cam['cam_other'])\n",
    "move.index=['cam_other']\n",
    "plot_cam.drop(['cam_other'],inplace=True)\n",
    "final_plot_cam = (plot_cam.append([move])/486)*100"
   ]
  },
  {
   "cell_type": "code",
   "execution_count": 194,
   "id": "939cc1ed-fff3-46c0-8a35-dbbb2712fe68",
   "metadata": {},
   "outputs": [
    {
     "data": {
      "image/png": "[encoded data removed]",
      "text/plain": [
       "<Figure size 432x288 with 1 Axes>"
      ]
     },
     "metadata": {
      "needs_background": "light"
     },
     "output_type": "display_data"
    }
   ],
   "source": [
    "plt.xticks(rotation=90)\n",
    "plt.bar(final_plot_cam.index,final_plot_cam.values)\n",
    "plt.show()"
   ]
  },
  {
   "cell_type": "code",
   "execution_count": 81,
   "id": "fee3967f-0730-4d1a-9b95-c12de8dc1fa4",
   "metadata": {},
   "outputs": [
    {
     "name": "stdout",
     "output_type": "stream",
     "text": [
      "['acupuncture', 'breathingexercises', 'chiropractic', 'dieting', 'herbal', 'homeopathy', 'massage', 'naturopathy', 'vitamins', 'other'] [4.526748971193416, 17.695473251028808, 5.349794238683128, 8.23045267489712, 10.08230452674897, 3.292181069958848, 7.818930041152264, 3.4979423868312756, 9.670781893004115, 16.255144032921812]\n"
     ]
    }
   ],
   "source": [
    "cam_data_x =[]\n",
    "cam_data_y = []\n",
    "for item in cam_sum.index:\n",
    "    if item[0:3]==\"cam\":\n",
    "        if item != \"cam_types\":\n",
    "            #print (item[4:])\n",
    "            if item != \"cam_use\":\n",
    "                cam_data_x.append(item[4:])\n",
    "                cam_data_y.append((cam_sum[item]/486)*100)\n",
    "            else:\n",
    "                count_yes = cam_sum['cam_use'].count(\"Yes\")\n",
    "                cam_data_x.append(item[4:])\n",
    "                cam_data_y.append((count_yes/486)*100)\n",
    "                \n",
    "\n",
    "                \n",
    "print(cam_data_x[:-1],cam_data_y[:-1])\n",
    "\n",
    "        "
   ]
  },
  {
   "cell_type": "code",
   "execution_count": 82,
   "id": "404b5cbc-d209-479f-861f-ad1e5733fa9e",
   "metadata": {},
   "outputs": [
    {
     "data": {
      "text/plain": [
       "<BarContainer object of 11 artists>"
      ]
     },
     "execution_count": 82,
     "metadata": {},
     "output_type": "execute_result"
    },
    {
     "data": {
      "image/png": "[encoded data removed]",
      "text/plain": [
       "<Figure size 432x288 with 1 Axes>"
      ]
     },
     "metadata": {
      "needs_background": "light"
     },
     "output_type": "display_data"
    }
   ],
   "source": [
    "plt.xticks(rotation=90)\n",
    "plt.bar(cam_data_x,cam_data_y)"
   ]
  },
  {
   "cell_type": "code",
   "execution_count": 77,
   "id": "7368a21b-f40f-41f1-a59d-3dd3cddeb0f5",
   "metadata": {},
   "outputs": [],
   "source": [
    "count_yes = cam_sum['cam_use'].count(\"Yes\")"
   ]
  },
  {
   "cell_type": "code",
   "execution_count": 78,
   "id": "311bdb5e-7b0a-4868-a177-3ac27f2b6888",
   "metadata": {},
   "outputs": [
    {
     "name": "stdout",
     "output_type": "stream",
     "text": [
      "179\n"
     ]
    }
   ],
   "source": [
    "print(count_yes)"
   ]
  },
  {
   "cell_type": "code",
   "execution_count": null,
   "id": "fdcae9c3-d88d-4293-b80b-da7397e7ff4c",
   "metadata": {},
   "outputs": [],
   "source": []
  }
 ],
 "metadata": {
  "kernelspec": {
   "display_name": "Python 3",
   "language": "python",
   "name": "python3"
  },
  "language_info": {
   "codemirror_mode": {
    "name": "ipython",
    "version": 3
   },
   "file_extension": ".py",
   "mimetype": "text/x-python",
   "name": "python",
   "nbconvert_exporter": "python",
   "pygments_lexer": "ipython3",
   "version": "3.8.8"
  }
 },
 "nbformat": 4,
 "nbformat_minor": 5
}
