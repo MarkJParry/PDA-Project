{
 "cells": [
  {
   "cell_type": "markdown",
   "id": "b76f83f1-654c-468a-a001-8a150b16bdec",
   "metadata": {},
   "source": [
    "# PDA-Project\n",
    "## Overview\n",
    "## Simulation\n",
    "## Real Data\n",
    "## Comparison\n",
    "## Conclusion\n",
    "## References\n",
    "## End"
   ]
  },
  {
   "cell_type": "markdown",
   "id": "b419eb41-9bc2-43c0-9144-be335fd263fc",
   "metadata": {},
   "source": [
    "## Overview\n",
    "*** "
   ]
  },
  {
   "cell_type": "markdown",
   "id": "c0f35846-160c-4f12-ae15-93dec4c16fb8",
   "metadata": {},
   "source": [
    "## Simulation\n",
    "***  "
   ]
  },
  {
   "cell_type": "markdown",
   "id": "dbc6d56c-fcec-467b-aba5-7e945093a30a",
   "metadata": {},
   "source": [
    "## Real Data\n",
    "***   "
   ]
  },
  {
   "cell_type": "markdown",
   "id": "641b4c22-50ed-413f-bf6e-0a47c2141e34",
   "metadata": {},
   "source": [
    "## Comparison\n",
    "***   "
   ]
  },
  {
   "cell_type": "markdown",
   "id": "86fe83a7-14ac-4bb2-89d4-88f2e8df888a",
   "metadata": {},
   "source": [
    "## Conclusion\n",
    "***   "
   ]
  },
  {
   "cell_type": "markdown",
   "id": "96b134f7-5c7e-4efe-9cb2-ef5cbdc18a43",
   "metadata": {},
   "source": [
    "## References\n",
    "\n",
    "|Article|Site|Available at|Accessed|\n",
    "|-------|----|------------|--------|\n",
    "|Random Generator — NumPy v1.21 Manual|numpy.org|\"https://numpy.org/doc/stable/reference/random/generator.html#simple- |(Dec 2021)|\n",
    "\n",
    "***"
   ]
  },
  {
   "cell_type": "markdown",
   "id": "02ff000c-8f63-48cf-8f0a-68c455a0f81d",
   "metadata": {},
   "source": [
    "## End"
   ]
  }
 ],
 "metadata": {
  "kernelspec": {
   "display_name": "Python 3",
   "language": "python",
   "name": "python3"
  },
  "language_info": {
   "codemirror_mode": {
    "name": "ipython",
    "version": 3
   },
   "file_extension": ".py",
   "mimetype": "text/x-python",
   "name": "python",
   "nbconvert_exporter": "python",
   "pygments_lexer": "ipython3",
   "version": "3.8.8"
  }
 },
 "nbformat": 4,
 "nbformat_minor": 5
}
